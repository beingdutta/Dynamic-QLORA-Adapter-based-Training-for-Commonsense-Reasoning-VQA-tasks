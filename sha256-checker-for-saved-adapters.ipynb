{
 "cells": [
  {
   "cell_type": "code",
   "execution_count": 4,
   "id": "dd993779-c355-4829-86da-3794fcd67216",
   "metadata": {},
   "outputs": [
    {
     "name": "stdout",
     "output_type": "stream",
     "text": [
      "physical       sha256=602035f5\n",
      "quantitative   sha256=92173f23\n",
      "spatial        sha256=bd03098a\n",
      "social         sha256=e346089f\n"
     ]
    }
   ],
   "source": [
    "import torch, hashlib, json, os\n",
    "root = \"moe-end2end/best_adapters\"\n",
    "names = [\"physical\",\"quantitative\",\"spatial\",\"social\"]\n",
    "\n",
    "def sha256(path):\n",
    "    with open(path, \"rb\") as f:\n",
    "        return hashlib.sha256(f.read()).hexdigest()[:8]\n",
    "\n",
    "for n in names:\n",
    "    p = os.path.join(root, n, \"adapter_model.safetensors\")\n",
    "    print(f\"{n:13s}  sha256={sha256(p)}\")\n"
   ]
  },
  {
   "cell_type": "code",
   "execution_count": 2,
   "id": "54129d6e-0ed5-4f24-a1d6-f90dbe09f105",
   "metadata": {},
   "outputs": [
    {
     "data": {
      "text/plain": [
       "'/home/aritrad/moe-directory/moe-datasets/TDIUC/custom-moe/using-sbert'"
      ]
     },
     "execution_count": 2,
     "metadata": {},
     "output_type": "execute_result"
    }
   ],
   "source": [
    "pwd"
   ]
  },
  {
   "cell_type": "code",
   "execution_count": null,
   "id": "441d5ed1-4b63-4c47-ab28-11a14eb5ad40",
   "metadata": {},
   "outputs": [],
   "source": []
  }
 ],
 "metadata": {
  "kernelspec": {
   "display_name": "Python 3 (ipykernel)",
   "language": "python",
   "name": "python3"
  },
  "language_info": {
   "codemirror_mode": {
    "name": "ipython",
    "version": 3
   },
   "file_extension": ".py",
   "mimetype": "text/x-python",
   "name": "python",
   "nbconvert_exporter": "python",
   "pygments_lexer": "ipython3",
   "version": "3.9.19"
  }
 },
 "nbformat": 4,
 "nbformat_minor": 5
}
