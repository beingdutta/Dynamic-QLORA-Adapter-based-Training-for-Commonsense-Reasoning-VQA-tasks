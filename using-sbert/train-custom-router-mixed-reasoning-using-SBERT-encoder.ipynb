{
 "cells": [
  {
   "cell_type": "code",
   "execution_count": null,
   "id": "47c5c54c-342b-484b-9ce0-e1263132517e",
   "metadata": {},
   "outputs": [],
   "source": [
    "import os\n",
    "import json\n",
    "import torch\n",
    "import xlora\n",
    "import pickle\n",
    "import random\n",
    "import datetime\n",
    "import xlsxwriter"
   ]
  },
  {
   "cell_type": "code",
   "execution_count": null,
   "id": "0225750b-c9aa-4eaf-a1bd-f428948cf752",
   "metadata": {},
   "outputs": [],
   "source": [
    "pwd"
   ]
  },
  {
   "cell_type": "code",
   "execution_count": null,
   "id": "437a5205-ae83-4f84-8759-b4d9c5943995",
   "metadata": {},
   "outputs": [],
   "source": [
    "import numpy as np\n",
    "from torch import nn\n",
    "from PIL import Image\n",
    "from tqdm.auto import tqdm\n",
    "from torch.optim import AdamW\n",
    "from functools import partial\n",
    "import matplotlib.pyplot as plt\n",
    "from collections import Counter\n",
    "from torch.utils.data import DataLoader\n",
    "from peft import LoraConfig, PeftModel, get_peft_model, prepare_model_for_kbit_training\n",
    "from transformers import Qwen2VLForConditionalGeneration, AutoProcessor, AutoConfig, BitsAndBytesConfig"
   ]
  },
  {
   "cell_type": "code",
   "execution_count": null,
   "id": "c02449ad-4d7e-469a-8b90-81ebeab4e44f",
   "metadata": {},
   "outputs": [],
   "source": [
    "\"\"\"from util.vision_util import process_vision_info\n",
    "from util.logutil import init_logger, get_logger\"\"\""
   ]
  },
  {
   "cell_type": "code",
   "execution_count": null,
   "id": "ee9ad283-f10c-4f7b-8fbc-8af07ef37d96",
   "metadata": {},
   "outputs": [],
   "source": [
    "conda_env = os.environ.get(\"CONDA_DEFAULT_ENV\")\n",
    "print(f\"Current Conda environment: {conda_env}\")"
   ]
  },
  {
   "cell_type": "code",
   "execution_count": null,
   "id": "156a5d97-1141-4337-9150-556b8b673cb9",
   "metadata": {},
   "outputs": [],
   "source": [
    "\"\"\"def formatImagePath(dict_):\n",
    "    imageName = dict_['image_id']\n",
    "    # modifiedImageName = f\"COCO_val2014_{imageName:012d}.jpg\"\n",
    "    imagePath = '/home/aritrad/moe-directory/moe-datasets/TDIUC/TDIUC/Images/val2014'\n",
    "    dict_['image_id'] = os.path.join(imagePath, imageName)\n",
    "    return dict_\"\"\""
   ]
  },
  {
   "cell_type": "markdown",
   "id": "3c1fb12c-63b7-42b4-80e9-afe8e3ac49f2",
   "metadata": {},
   "source": [
    "### Load the Prototype Mixed Precision Dataset (For Router Training)."
   ]
  },
  {
   "cell_type": "code",
   "execution_count": null,
   "id": "70ceb201-401e-4506-b875-37ccf3b6f40d",
   "metadata": {},
   "outputs": [],
   "source": [
    "# Pickling (Serialization)\n",
    "\n",
    "with open('/home/aritrad/moe-directory/moe-datasets/TDIUC/prototype-train-set-8k-for-router-machine-automatic-llama3.2-annotation.pickle', 'rb') as file:\n",
    "    mixed_reasoning_data_prototype = pickle.load(file)"
   ]
  },
  {
   "cell_type": "code",
   "execution_count": null,
   "id": "5e6dfaf2-1bf9-4746-afe0-94dde6078f43",
   "metadata": {},
   "outputs": [],
   "source": [
    "mixed_reasoning_data_prototype[0:2], len(mixed_reasoning_data_prototype)"
   ]
  },
  {
   "cell_type": "code",
   "execution_count": null,
   "id": "72965e57-7b04-4782-9174-455ac5249e4f",
   "metadata": {},
   "outputs": [],
   "source": [
    "# Count reasoning types\n",
    "reasoning_counts = Counter(item[\"reasoning_type\"] for item in mixed_reasoning_data_prototype)\n",
    "reasoning_counts"
   ]
  },
  {
   "cell_type": "code",
   "execution_count": null,
   "id": "b73078d7-872e-447f-b073-ebcd93bd7df5",
   "metadata": {},
   "outputs": [],
   "source": []
  },
  {
   "cell_type": "code",
   "execution_count": null,
   "id": "81034ff6-6673-4e65-964a-54591ff07d3b",
   "metadata": {},
   "outputs": [],
   "source": [
    "\"\"\"# subsetting for testing\n",
    "\n",
    "mixed_reasoning_data_prototype_xlora = mixed_reasoning_data_prototype_xlora[:500]\"\"\""
   ]
  },
  {
   "cell_type": "code",
   "execution_count": null,
   "id": "9749d10b-b289-43ed-a639-4e03e5a2b412",
   "metadata": {},
   "outputs": [],
   "source": [
    "print(f'Length of mixed reasoing dataset: {len(mixed_reasoning_data_prototype)}')"
   ]
  },
  {
   "cell_type": "code",
   "execution_count": null,
   "id": "ab699eb0-e9b8-47ac-bfbb-b92bb8a2b3a3",
   "metadata": {},
   "outputs": [],
   "source": [
    "from datasets import Dataset"
   ]
  },
  {
   "cell_type": "code",
   "execution_count": null,
   "id": "d888c0c2-67ce-4397-9b8a-5933061c8020",
   "metadata": {},
   "outputs": [],
   "source": [
    "image_folder_path = \"/home/aritrad/moe-directory/moe-datasets/TDIUC/TDIUC/Images/val2014\"\n",
    "prefix = \"Generate a one word answer for the given image and question: \""
   ]
  },
  {
   "cell_type": "code",
   "execution_count": null,
   "id": "ce613199-5514-48c2-9194-7d993f2b24c1",
   "metadata": {},
   "outputs": [],
   "source": [
    "expert_names = [\"Physical Reasoning.\", \"Quantity Reasoning.\", \"Spatial Reasoning.\", \"Social and Emotional Reasoning.\"]\n",
    "label2id = {name: idx for idx, name in enumerate(expert_names)}"
   ]
  },
  {
   "cell_type": "code",
   "execution_count": null,
   "id": "3219b829-fde5-453d-91e8-2d13db756c2a",
   "metadata": {},
   "outputs": [],
   "source": [
    "label2id"
   ]
  },
  {
   "cell_type": "code",
   "execution_count": null,
   "id": "0fab794c-be99-4fe4-9ece-09cc53d82ade",
   "metadata": {},
   "outputs": [],
   "source": [
    "# Using list comprehension to update reasoning_type\n",
    "mixed_reasoning_data_prototype = [\n",
    "    {**item, 'reasoning_type': label2id[item['reasoning_type']]}\n",
    "    for item in mixed_reasoning_data_prototype\n",
    "]"
   ]
  },
  {
   "cell_type": "code",
   "execution_count": null,
   "id": "70361ac2-d101-4d49-8597-d72194f3abea",
   "metadata": {},
   "outputs": [],
   "source": [
    "listToDictionary = {\n",
    "    'question': [ prefix + dict_['question'] for dict_ in mixed_reasoning_data_prototype ], \n",
    "    'image': [ os.path.join(image_folder_path, dict_['image_id']) for dict_ in mixed_reasoning_data_prototype ],\n",
    "    'reasoning_type': [ dict_['reasoning_type'] for dict_ in mixed_reasoning_data_prototype ]\n",
    "}\n",
    "\n",
    "reasonining_type_set = Dataset.from_dict(listToDictionary)"
   ]
  },
  {
   "cell_type": "code",
   "execution_count": null,
   "id": "a3558b9d-dea0-4a61-ae38-d214e2845c05",
   "metadata": {},
   "outputs": [],
   "source": [
    "len(reasonining_type_set)"
   ]
  },
  {
   "cell_type": "code",
   "execution_count": null,
   "id": "5c53afd9-b3dc-412f-9086-97eddcc196af",
   "metadata": {},
   "outputs": [],
   "source": [
    "# Split into Train and Test\n",
    "\n",
    "split = reasonining_type_set.train_test_split(test_size=1000, seed=42)"
   ]
  },
  {
   "cell_type": "code",
   "execution_count": null,
   "id": "9a3876dd-2944-443e-9543-4b84257cff93",
   "metadata": {},
   "outputs": [],
   "source": [
    "train_set = split['train']\n",
    "val_set = split['test']"
   ]
  },
  {
   "cell_type": "code",
   "execution_count": null,
   "id": "7af00f34-6e6e-44c6-b4c2-18e9c47122c2",
   "metadata": {},
   "outputs": [],
   "source": [
    "len(train_set), len(val_set)"
   ]
  },
  {
   "cell_type": "code",
   "execution_count": null,
   "id": "12151aba-94e2-42db-8366-b6f44e997c63",
   "metadata": {},
   "outputs": [],
   "source": []
  },
  {
   "cell_type": "markdown",
   "id": "22024e7c-929b-4136-b10f-467b88245925",
   "metadata": {},
   "source": [
    "### Load Main Test Set (For Measuring Router Accuracy)"
   ]
  },
  {
   "cell_type": "code",
   "execution_count": null,
   "id": "a8bbad2d-50ce-49d2-8f52-5dccaf3b9397",
   "metadata": {},
   "outputs": [],
   "source": [
    "# Pickling (Serialization)\n",
    "\n",
    "with open('/home/aritrad/moe-directory/moe-datasets/TDIUC/prototype-test-set-2k-machine-automatic-llama3.2-annotation.pickle', 'rb') as file:\n",
    "    test_set = pickle.load(file)"
   ]
  },
  {
   "cell_type": "code",
   "execution_count": null,
   "id": "750624de-8a88-47f3-8006-bb7b07f8850a",
   "metadata": {},
   "outputs": [],
   "source": [
    "# Using list comprehension to update reasoning_type\n",
    "test_set = [\n",
    "    {**item, 'reasoning_type': label2id[item['reasoning_type']]}\n",
    "    for item in test_set\n",
    "]"
   ]
  },
  {
   "cell_type": "code",
   "execution_count": null,
   "id": "e23dadee-4426-48b7-b7c4-1451d54c9b1c",
   "metadata": {},
   "outputs": [],
   "source": [
    "listToDictionary = {\n",
    "    'question': [ prefix + dict_['question'] for dict_ in test_set ], \n",
    "    'image': [ os.path.join(image_folder_path, dict_['image_id']) for dict_ in test_set ],\n",
    "    'reasoning_type': [ dict_['reasoning_type'] for dict_ in test_set ]\n",
    "}\n",
    "\n",
    "test_set = Dataset.from_dict(listToDictionary)"
   ]
  },
  {
   "cell_type": "code",
   "execution_count": null,
   "id": "d36fc3df-5ae1-4d29-ab03-d1c02c46215a",
   "metadata": {},
   "outputs": [],
   "source": [
    "test_set[0], len(test_set)"
   ]
  },
  {
   "cell_type": "code",
   "execution_count": null,
   "id": "ea620364-e496-44b0-9d44-f56736f591f7",
   "metadata": {},
   "outputs": [],
   "source": []
  },
  {
   "cell_type": "markdown",
   "id": "b3aceb55-6599-40be-b3f7-e8c3164c6df0",
   "metadata": {},
   "source": [
    "## Model Loading"
   ]
  },
  {
   "cell_type": "code",
   "execution_count": null,
   "id": "881e24d5-a7ef-4769-bbe8-e9b99207334c",
   "metadata": {},
   "outputs": [],
   "source": [
    "device = \"cuda:0\""
   ]
  },
  {
   "cell_type": "code",
   "execution_count": null,
   "id": "b3532954-624a-4d98-9db0-a529afb1e970",
   "metadata": {},
   "outputs": [],
   "source": [
    "from sentence_transformers import SentenceTransformer, util\n",
    "sbert = SentenceTransformer('all-mpnet-base-v2', device = device)"
   ]
  },
  {
   "cell_type": "code",
   "execution_count": null,
   "id": "3596bff1-35d8-466d-8a76-162245270444",
   "metadata": {},
   "outputs": [],
   "source": []
  },
  {
   "cell_type": "markdown",
   "id": "466d7ba8-4068-4ab7-9643-516387401089",
   "metadata": {},
   "source": [
    "### Dataset Pre-processing"
   ]
  },
  {
   "cell_type": "code",
   "execution_count": null,
   "id": "bb6f6884-3b4e-4b01-aecb-c5f0d8aa2a52",
   "metadata": {},
   "outputs": [],
   "source": [
    "def collate_fn(examples):\n",
    "    # pull out the raw strings and integer labels\n",
    "    questions = [ex[\"question\"] for ex in examples]\n",
    "    labels    = torch.tensor([ex[\"reasoning_type\"] for ex in examples],\n",
    "                             dtype=torch.long)\n",
    "    return {\n",
    "        'questions': questions, \n",
    "        'labels': labels\n",
    "    }"
   ]
  },
  {
   "cell_type": "code",
   "execution_count": null,
   "id": "955642e1-0dcb-4bd3-94c8-f4b5e1882785",
   "metadata": {},
   "outputs": [],
   "source": [
    "train_loader = DataLoader(train_set,\n",
    "                          batch_size = 32,\n",
    "                          shuffle = True,\n",
    "                          collate_fn = collate_fn)\n",
    "\n",
    "val_loader = DataLoader(val_set,\n",
    "                          batch_size = 32,\n",
    "                          shuffle = True,\n",
    "                          collate_fn = collate_fn)\n",
    "\n",
    "test_loader = DataLoader(test_set,\n",
    "                          batch_size = 32,\n",
    "                          shuffle = False,\n",
    "                          collate_fn = collate_fn)"
   ]
  },
  {
   "cell_type": "code",
   "execution_count": null,
   "id": "73d21433-58ba-43ae-8fac-ce27877b37e7",
   "metadata": {},
   "outputs": [],
   "source": [
    "# Test the batch.\n",
    "\n",
    "for batch in train_loader:\n",
    "    print(batch)\n",
    "    break"
   ]
  },
  {
   "cell_type": "code",
   "execution_count": null,
   "id": "edde2baf-78e9-45d2-99d0-1873d0bae4e0",
   "metadata": {},
   "outputs": [],
   "source": [
    "print(f'Number of batches in the Training Set: {len(train_loader)}, Test Set: {len(test_loader)} and Val Set: {len(val_loader)}')"
   ]
  },
  {
   "cell_type": "code",
   "execution_count": null,
   "id": "eca44e78-1334-4b23-8c40-e6cebde5812f",
   "metadata": {},
   "outputs": [],
   "source": []
  },
  {
   "cell_type": "markdown",
   "id": "64f9ec28-27c8-478d-8a91-2c87692723dd",
   "metadata": {},
   "source": [
    "### Router Definition"
   ]
  },
  {
   "cell_type": "code",
   "execution_count": null,
   "id": "a3bd0f79-67e9-4c05-87db-e80aa2ed16d7",
   "metadata": {},
   "outputs": [],
   "source": [
    "pwd"
   ]
  },
  {
   "cell_type": "code",
   "execution_count": null,
   "id": "3a16abe6-b976-4c92-a8f6-f8e9e2a00134",
   "metadata": {},
   "outputs": [],
   "source": [
    "class Router(nn.Module):\n",
    "    \n",
    "    def __init__(self, hidden=768, n_experts=4):\n",
    "        super().__init__()\n",
    "        self.net = nn.Sequential(\n",
    "            nn.Linear(hidden, hidden // 2),\n",
    "            nn.GELU(),\n",
    "            nn.Dropout(0.1),\n",
    "            nn.Linear(hidden // 2, hidden // 4),\n",
    "            nn.GELU(),\n",
    "            nn.Dropout(0.1),\n",
    "            nn.Linear(hidden // 4, n_experts)\n",
    "        )\n",
    "        \n",
    "    def forward(self, fused):          # (B, 1536)\n",
    "        return self.net(fused)"
   ]
  },
  {
   "cell_type": "code",
   "execution_count": null,
   "id": "a13bbe5f-95de-4f78-afe7-e86e64a8480d",
   "metadata": {},
   "outputs": [],
   "source": [
    "# Code for testing saved router checkpoint on other test sets.\n",
    "router = Router(n_experts=len(expert_names)).to(device)\n",
    "\n",
    "# Comment this block when Traininig.\n",
    "checkpoint = torch.load('./router_best.pt') \n",
    "router.load_state_dict(checkpoint)\n",
    "\n",
    "print(\"Router Initialized ✓\")"
   ]
  },
  {
   "cell_type": "code",
   "execution_count": null,
   "id": "5734d82e-f71f-4b3b-b097-33be53fb6077",
   "metadata": {},
   "outputs": [],
   "source": [
    "param_count = sum(p.numel() for p in router.parameters() if p.requires_grad)\n",
    "print(f\"Trainable parameters: {param_count}\")"
   ]
  },
  {
   "cell_type": "code",
   "execution_count": null,
   "id": "4192ac48-a0f0-47e5-90b4-de5f6057d2d9",
   "metadata": {},
   "outputs": [],
   "source": [
    "optimizer = torch.optim.AdamW(router.parameters(), lr = 1e-4)\n",
    "loss_func = nn.CrossEntropyLoss()\n",
    "epochs = 12"
   ]
  },
  {
   "cell_type": "markdown",
   "id": "b7099805-dbc6-4383-8164-1e88b006ad70",
   "metadata": {},
   "source": [
    "### Get Embedding"
   ]
  },
  {
   "cell_type": "code",
   "execution_count": null,
   "id": "29218e24-61df-4b83-a959-6199899905ff",
   "metadata": {},
   "outputs": [],
   "source": [
    "def get_text_repr(batch):\n",
    "    \"\"\"\n",
    "    batch is a dict with\n",
    "      - batch[\"question\"]: List[str]\n",
    "      - batch[\"labels\"]:   Tensor\n",
    "    returns a torch.Tensor of shape (B, 768) on `device`\n",
    "    \"\"\"\n",
    "    # SBERT.encode by default runs under no_grad, so SBERT stays frozen.\n",
    "    embeds = sbert.encode(\n",
    "        batch[\"questions\"],\n",
    "        convert_to_tensor=True,\n",
    "        device=device,\n",
    "    )\n",
    "\n",
    "    # dtype=torch.float32\n",
    "    return embeds  "
   ]
  },
  {
   "cell_type": "markdown",
   "id": "55920073-97be-4085-b064-9a33a53bedfc",
   "metadata": {},
   "source": [
    "### Train and Evaluate:"
   ]
  },
  {
   "cell_type": "code",
   "execution_count": null,
   "id": "9a4bd91c-52c1-49fa-bf97-1e16ad845836",
   "metadata": {},
   "outputs": [],
   "source": [
    "def evaluate(loader):\n",
    "    router.eval()\n",
    "    correct = total = 0\n",
    "    \n",
    "    with torch.inference_mode():\n",
    "        for batch in tqdm(loader):\n",
    "            \n",
    "            labels = batch[\"labels\"].to(device)\n",
    "            fused  = get_text_repr(batch)\n",
    "            preds = router(fused).argmax(dim=-1)\n",
    "                \n",
    "            correct += (preds == labels).sum().item()\n",
    "            total   += labels.size(0)\n",
    "            \n",
    "    return correct / total"
   ]
  },
  {
   "cell_type": "code",
   "execution_count": null,
   "id": "56719b56-054a-4e70-97dd-a57216c94e68",
   "metadata": {},
   "outputs": [],
   "source": [
    "print(\"[•] Training router …\")\n",
    "best = 0.0"
   ]
  },
  {
   "cell_type": "code",
   "execution_count": null,
   "id": "f0ac6518-3227-4e5b-8693-b07470f901b0",
   "metadata": {},
   "outputs": [],
   "source": [
    "for epoch in range(epochs):\n",
    "    \n",
    "    router.train()\n",
    "    for step, batch in enumerate(train_loader):\n",
    "        \n",
    "        labels = batch[\"labels\"].to(device)\n",
    "        fused  = get_text_repr(batch)   # (B,768) float32\n",
    "        logits = router(fused)     \n",
    "            \n",
    "        loss = loss_func(logits, labels)\n",
    "        loss.backward()\n",
    "        optimizer.step()\n",
    "        optimizer.zero_grad()\n",
    "\n",
    "        if step % 50 == 0:\n",
    "            print(f\"epoch {epoch+1} step {step:4d} loss {loss.item():.4f}\")\n",
    "\n",
    "    # validation\n",
    "    val_acc = evaluate(val_loader)\n",
    "    print(f\"\\n|| Epoch {epoch+1} → val acc = {val_acc: .3%} ||\\n\")\n",
    "    if val_acc > best:\n",
    "        best = val_acc\n",
    "        torch.save(router.state_dict(), \"router_best_1.pt\")"
   ]
  },
  {
   "cell_type": "code",
   "execution_count": null,
   "id": "57b2a65b-bc2e-49e7-9949-bcf9826d22b8",
   "metadata": {},
   "outputs": [],
   "source": []
  },
  {
   "cell_type": "code",
   "execution_count": null,
   "id": "98a3a6ce-686a-49d9-9071-aa320d3ba169",
   "metadata": {},
   "outputs": [],
   "source": [
    "test_acc = evaluate(test_loader)\n",
    "print(f'Test Set accuracy of the Router is: {test_acc*100:.4f}')"
   ]
  },
  {
   "cell_type": "code",
   "execution_count": null,
   "id": "93b293f2-3502-487b-ada6-5e8cdecbf79f",
   "metadata": {},
   "outputs": [],
   "source": []
  },
  {
   "cell_type": "code",
   "execution_count": null,
   "id": "20f2696e-4336-4637-a719-ae6c7159e0df",
   "metadata": {},
   "outputs": [],
   "source": []
  }
 ],
 "metadata": {
  "kernelspec": {
   "display_name": "Python 3 (ipykernel)",
   "language": "python",
   "name": "python3"
  },
  "language_info": {
   "codemirror_mode": {
    "name": "ipython",
    "version": 3
   },
   "file_extension": ".py",
   "mimetype": "text/x-python",
   "name": "python",
   "nbconvert_exporter": "python",
   "pygments_lexer": "ipython3",
   "version": "3.9.19"
  }
 },
 "nbformat": 4,
 "nbformat_minor": 5
}
